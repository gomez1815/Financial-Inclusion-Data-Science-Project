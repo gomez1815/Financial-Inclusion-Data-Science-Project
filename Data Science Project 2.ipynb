{
 "cells": [
  {
   "cell_type": "markdown",
   "id": "1deb8174-0550-4b59-b5ef-448a3801390b",
   "metadata": {},
   "source": [
    "# Data Science Project: Financial Inclusion in Africa"
   ]
  },
  {
   "cell_type": "markdown",
   "id": "0ae84eee-3c0f-43e5-b3af-0ac325ceae84",
   "metadata": {},
   "source": [
    "Financial inclusion remains a major barrier to economic and human development in Africa.. For instance, in Kenya, Uganda, Rwanda, and Tanzania, only 14% of adults can access or use a commercial bank account, which is considered a great indicator of financial inclusion traditionally. It enables households to save and make payments while helping business build up their creditworthiness and improve their access to loans, insurance, and related services. \n",
    "\n",
    "In this project, I will make a machine learning model to predict which individuals are most likely to have or use a bank account in Africa. The model will help indicate the state of financial inclusion in Kenya, Rwanda, Tanzania, and Uganda, while offering insights into the key factors influencing individuals’ financial security."
   ]
  },
  {
   "cell_type": "markdown",
   "id": "cddbc9c3-0570-4a81-8871-b611480cbdf8",
   "metadata": {},
   "source": [
    "## Data Preprocessing"
   ]
  },
  {
   "cell_type": "markdown",
   "id": "d5f406c1-2c01-4425-bdfa-14c08196f237",
   "metadata": {},
   "source": [
    "In this section, I will clean the data and prepare the dataset for efficient analysis and prediction of individuals’ bank account status."
   ]
  },
  {
   "cell_type": "markdown",
   "id": "4eb08cb5-dc25-4ce8-a3a2-d66dbd9c5013",
   "metadata": {},
   "source": [
    "Before diving into the project, I need to set the environment to begin the project. "
   ]
  },
  {
   "cell_type": "code",
   "execution_count": 1,
   "id": "274ffb05-2980-47e1-a063-3f45ba859df2",
   "metadata": {},
   "outputs": [],
   "source": [
    "import numpy as np\n",
    "import pandas as pd\n",
    "import seaborn as sns\n",
    "import matplotlib.pyplot as plt"
   ]
  },
  {
   "cell_type": "markdown",
   "id": "f19a43e3-8e34-4858-8bcc-77fe61671f2a",
   "metadata": {},
   "source": [
    "In this project, I used data from \"https://drive.google.com/file/d/1XTxaKqg_ULy-RY1o-YMOHT7lIgtHFSPF/view\". \n",
    "First, I read the csv file as pandas, then extract 5 samples of data to check trends in the data. "
   ]
  },
  {
   "cell_type": "code",
   "execution_count": 2,
   "id": "cccda2da-0ec8-4ea0-96dd-fe147e250a14",
   "metadata": {},
   "outputs": [
    {
     "data": {
      "text/html": [
       "<div>\n",
       "<style scoped>\n",
       "    .dataframe tbody tr th:only-of-type {\n",
       "        vertical-align: middle;\n",
       "    }\n",
       "\n",
       "    .dataframe tbody tr th {\n",
       "        vertical-align: top;\n",
       "    }\n",
       "\n",
       "    .dataframe thead th {\n",
       "        text-align: right;\n",
       "    }\n",
       "</style>\n",
       "<table border=\"1\" class=\"dataframe\">\n",
       "  <thead>\n",
       "    <tr style=\"text-align: right;\">\n",
       "      <th></th>\n",
       "      <th>country</th>\n",
       "      <th>year</th>\n",
       "      <th>uniqueid</th>\n",
       "      <th>bank_account</th>\n",
       "      <th>location_type</th>\n",
       "      <th>cellphone_access</th>\n",
       "      <th>household_size</th>\n",
       "      <th>age_of_respondent</th>\n",
       "      <th>gender_of_respondent</th>\n",
       "      <th>relationship_with_head</th>\n",
       "      <th>marital_status</th>\n",
       "      <th>education_level</th>\n",
       "      <th>job_type</th>\n",
       "    </tr>\n",
       "  </thead>\n",
       "  <tbody>\n",
       "    <tr>\n",
       "      <th>3021</th>\n",
       "      <td>Kenya</td>\n",
       "      <td>2018</td>\n",
       "      <td>uniqueid_3022</td>\n",
       "      <td>No</td>\n",
       "      <td>Urban</td>\n",
       "      <td>Yes</td>\n",
       "      <td>4</td>\n",
       "      <td>20</td>\n",
       "      <td>Female</td>\n",
       "      <td>Child</td>\n",
       "      <td>Single/Never Married</td>\n",
       "      <td>Tertiary education</td>\n",
       "      <td>Self employed</td>\n",
       "    </tr>\n",
       "    <tr>\n",
       "      <th>3765</th>\n",
       "      <td>Kenya</td>\n",
       "      <td>2018</td>\n",
       "      <td>uniqueid_3766</td>\n",
       "      <td>No</td>\n",
       "      <td>Rural</td>\n",
       "      <td>Yes</td>\n",
       "      <td>3</td>\n",
       "      <td>31</td>\n",
       "      <td>Male</td>\n",
       "      <td>Head of Household</td>\n",
       "      <td>Married/Living together</td>\n",
       "      <td>Secondary education</td>\n",
       "      <td>Self employed</td>\n",
       "    </tr>\n",
       "    <tr>\n",
       "      <th>5639</th>\n",
       "      <td>Kenya</td>\n",
       "      <td>2018</td>\n",
       "      <td>uniqueid_5640</td>\n",
       "      <td>Yes</td>\n",
       "      <td>Rural</td>\n",
       "      <td>Yes</td>\n",
       "      <td>2</td>\n",
       "      <td>28</td>\n",
       "      <td>Female</td>\n",
       "      <td>Child</td>\n",
       "      <td>Single/Never Married</td>\n",
       "      <td>Secondary education</td>\n",
       "      <td>Self employed</td>\n",
       "    </tr>\n",
       "    <tr>\n",
       "      <th>13923</th>\n",
       "      <td>Rwanda</td>\n",
       "      <td>2016</td>\n",
       "      <td>uniqueid_7856</td>\n",
       "      <td>No</td>\n",
       "      <td>Rural</td>\n",
       "      <td>Yes</td>\n",
       "      <td>5</td>\n",
       "      <td>17</td>\n",
       "      <td>Male</td>\n",
       "      <td>Child</td>\n",
       "      <td>Single/Never Married</td>\n",
       "      <td>Primary education</td>\n",
       "      <td>Farming and Fishing</td>\n",
       "    </tr>\n",
       "    <tr>\n",
       "      <th>21972</th>\n",
       "      <td>Uganda</td>\n",
       "      <td>2018</td>\n",
       "      <td>uniqueid_550</td>\n",
       "      <td>No</td>\n",
       "      <td>Urban</td>\n",
       "      <td>Yes</td>\n",
       "      <td>3</td>\n",
       "      <td>21</td>\n",
       "      <td>Female</td>\n",
       "      <td>Head of Household</td>\n",
       "      <td>Single/Never Married</td>\n",
       "      <td>Primary education</td>\n",
       "      <td>Self employed</td>\n",
       "    </tr>\n",
       "  </tbody>\n",
       "</table>\n",
       "</div>"
      ],
      "text/plain": [
       "      country  year       uniqueid bank_account location_type  \\\n",
       "3021    Kenya  2018  uniqueid_3022           No         Urban   \n",
       "3765    Kenya  2018  uniqueid_3766           No         Rural   \n",
       "5639    Kenya  2018  uniqueid_5640          Yes         Rural   \n",
       "13923  Rwanda  2016  uniqueid_7856           No         Rural   \n",
       "21972  Uganda  2018   uniqueid_550           No         Urban   \n",
       "\n",
       "      cellphone_access  household_size  age_of_respondent  \\\n",
       "3021               Yes               4                 20   \n",
       "3765               Yes               3                 31   \n",
       "5639               Yes               2                 28   \n",
       "13923              Yes               5                 17   \n",
       "21972              Yes               3                 21   \n",
       "\n",
       "      gender_of_respondent relationship_with_head           marital_status  \\\n",
       "3021                Female                  Child     Single/Never Married   \n",
       "3765                  Male      Head of Household  Married/Living together   \n",
       "5639                Female                  Child     Single/Never Married   \n",
       "13923                 Male                  Child     Single/Never Married   \n",
       "21972               Female      Head of Household     Single/Never Married   \n",
       "\n",
       "           education_level             job_type  \n",
       "3021    Tertiary education        Self employed  \n",
       "3765   Secondary education        Self employed  \n",
       "5639   Secondary education        Self employed  \n",
       "13923    Primary education  Farming and Fishing  \n",
       "21972    Primary education        Self employed  "
      ]
     },
     "execution_count": 2,
     "metadata": {},
     "output_type": "execute_result"
    }
   ],
   "source": [
    "df = pd.read_csv(\"Train.csv\")\n",
    "df.sample(5)"
   ]
  },
  {
   "cell_type": "markdown",
   "id": "3aac705b-3a74-4145-b3d1-a407a2f0f9ae",
   "metadata": {},
   "source": [
    "Also, this data has 23524 rows with 13 columns. "
   ]
  },
  {
   "cell_type": "code",
   "execution_count": 3,
   "id": "8f2d8466-df67-4e7f-b2d0-f86eef37ef5a",
   "metadata": {},
   "outputs": [
    {
     "data": {
      "text/plain": [
       "(23524, 13)"
      ]
     },
     "execution_count": 3,
     "metadata": {},
     "output_type": "execute_result"
    }
   ],
   "source": [
    "df.shape "
   ]
  },
  {
   "cell_type": "markdown",
   "id": "758ba8fe-ec88-4598-bd2a-ef50e2297fa5",
   "metadata": {},
   "source": [
    "Before analyzing the data, I'm curious about the difference among the four countries' bank account status, and in general."
   ]
  },
  {
   "cell_type": "code",
   "execution_count": 4,
   "id": "8b76ddcc-7388-415c-af1f-d79abb520cae",
   "metadata": {},
   "outputs": [
    {
     "data": {
      "text/plain": [
       "bank_account\n",
       "No     20212\n",
       "Yes     3312\n",
       "Name: count, dtype: int64"
      ]
     },
     "execution_count": 4,
     "metadata": {},
     "output_type": "execute_result"
    }
   ],
   "source": [
    "df['bank_account'].value_counts()"
   ]
  },
  {
   "cell_type": "code",
   "execution_count": 5,
   "id": "0bdd99ce-e4ee-4ab4-a454-5e5ef282bea7",
   "metadata": {},
   "outputs": [
    {
     "data": {
      "text/plain": [
       "country   bank_account\n",
       "Kenya     No              4547\n",
       "          Yes             1521\n",
       "Rwanda    No              7732\n",
       "          Yes             1003\n",
       "Tanzania  No              6013\n",
       "          Yes              607\n",
       "Uganda    No              1920\n",
       "          Yes              181\n",
       "Name: count, dtype: int64"
      ]
     },
     "execution_count": 5,
     "metadata": {},
     "output_type": "execute_result"
    }
   ],
   "source": [
    "df.groupby('country')['bank_account'].value_counts()"
   ]
  },
  {
   "cell_type": "markdown",
   "id": "a03505a7-28ea-48aa-be33-8bce4898fe71",
   "metadata": {},
   "source": [
    "Let's start cleaning the dataset. \n",
    "The \"uniqueid\" column is redundant, as all entries begin with \"uniqueid_\".\n",
    "I would like to remove the \"uniqueid_\", then represented by only id numbers."
   ]
  },
  {
   "cell_type": "code",
   "execution_count": 6,
   "id": "17512c6a-3ba1-4abb-b6c6-46b4d32f3a50",
   "metadata": {},
   "outputs": [
    {
     "data": {
      "text/html": [
       "<div>\n",
       "<style scoped>\n",
       "    .dataframe tbody tr th:only-of-type {\n",
       "        vertical-align: middle;\n",
       "    }\n",
       "\n",
       "    .dataframe tbody tr th {\n",
       "        vertical-align: top;\n",
       "    }\n",
       "\n",
       "    .dataframe thead th {\n",
       "        text-align: right;\n",
       "    }\n",
       "</style>\n",
       "<table border=\"1\" class=\"dataframe\">\n",
       "  <thead>\n",
       "    <tr style=\"text-align: right;\">\n",
       "      <th></th>\n",
       "      <th>country</th>\n",
       "      <th>year</th>\n",
       "      <th>uniqueid</th>\n",
       "      <th>bank_account</th>\n",
       "      <th>location_type</th>\n",
       "      <th>cellphone_access</th>\n",
       "      <th>household_size</th>\n",
       "      <th>age_of_respondent</th>\n",
       "      <th>gender_of_respondent</th>\n",
       "      <th>relationship_with_head</th>\n",
       "      <th>marital_status</th>\n",
       "      <th>education_level</th>\n",
       "      <th>job_type</th>\n",
       "    </tr>\n",
       "  </thead>\n",
       "  <tbody>\n",
       "    <tr>\n",
       "      <th>0</th>\n",
       "      <td>Kenya</td>\n",
       "      <td>2018</td>\n",
       "      <td>1</td>\n",
       "      <td>Yes</td>\n",
       "      <td>Rural</td>\n",
       "      <td>Yes</td>\n",
       "      <td>3</td>\n",
       "      <td>24</td>\n",
       "      <td>Female</td>\n",
       "      <td>Spouse</td>\n",
       "      <td>Married/Living together</td>\n",
       "      <td>Secondary education</td>\n",
       "      <td>Self employed</td>\n",
       "    </tr>\n",
       "    <tr>\n",
       "      <th>1</th>\n",
       "      <td>Kenya</td>\n",
       "      <td>2018</td>\n",
       "      <td>2</td>\n",
       "      <td>No</td>\n",
       "      <td>Rural</td>\n",
       "      <td>No</td>\n",
       "      <td>5</td>\n",
       "      <td>70</td>\n",
       "      <td>Female</td>\n",
       "      <td>Head of Household</td>\n",
       "      <td>Widowed</td>\n",
       "      <td>No formal education</td>\n",
       "      <td>Government Dependent</td>\n",
       "    </tr>\n",
       "    <tr>\n",
       "      <th>2</th>\n",
       "      <td>Kenya</td>\n",
       "      <td>2018</td>\n",
       "      <td>3</td>\n",
       "      <td>Yes</td>\n",
       "      <td>Urban</td>\n",
       "      <td>Yes</td>\n",
       "      <td>5</td>\n",
       "      <td>26</td>\n",
       "      <td>Male</td>\n",
       "      <td>Other relative</td>\n",
       "      <td>Single/Never Married</td>\n",
       "      <td>Vocational/Specialised training</td>\n",
       "      <td>Self employed</td>\n",
       "    </tr>\n",
       "    <tr>\n",
       "      <th>3</th>\n",
       "      <td>Kenya</td>\n",
       "      <td>2018</td>\n",
       "      <td>4</td>\n",
       "      <td>No</td>\n",
       "      <td>Rural</td>\n",
       "      <td>Yes</td>\n",
       "      <td>5</td>\n",
       "      <td>34</td>\n",
       "      <td>Female</td>\n",
       "      <td>Head of Household</td>\n",
       "      <td>Married/Living together</td>\n",
       "      <td>Primary education</td>\n",
       "      <td>Formally employed Private</td>\n",
       "    </tr>\n",
       "    <tr>\n",
       "      <th>4</th>\n",
       "      <td>Kenya</td>\n",
       "      <td>2018</td>\n",
       "      <td>5</td>\n",
       "      <td>No</td>\n",
       "      <td>Urban</td>\n",
       "      <td>No</td>\n",
       "      <td>8</td>\n",
       "      <td>26</td>\n",
       "      <td>Male</td>\n",
       "      <td>Child</td>\n",
       "      <td>Single/Never Married</td>\n",
       "      <td>Primary education</td>\n",
       "      <td>Informally employed</td>\n",
       "    </tr>\n",
       "  </tbody>\n",
       "</table>\n",
       "</div>"
      ],
      "text/plain": [
       "  country  year uniqueid bank_account location_type cellphone_access  \\\n",
       "0   Kenya  2018        1          Yes         Rural              Yes   \n",
       "1   Kenya  2018        2           No         Rural               No   \n",
       "2   Kenya  2018        3          Yes         Urban              Yes   \n",
       "3   Kenya  2018        4           No         Rural              Yes   \n",
       "4   Kenya  2018        5           No         Urban               No   \n",
       "\n",
       "   household_size  age_of_respondent gender_of_respondent  \\\n",
       "0               3                 24               Female   \n",
       "1               5                 70               Female   \n",
       "2               5                 26                 Male   \n",
       "3               5                 34               Female   \n",
       "4               8                 26                 Male   \n",
       "\n",
       "  relationship_with_head           marital_status  \\\n",
       "0                 Spouse  Married/Living together   \n",
       "1      Head of Household                  Widowed   \n",
       "2         Other relative     Single/Never Married   \n",
       "3      Head of Household  Married/Living together   \n",
       "4                  Child     Single/Never Married   \n",
       "\n",
       "                   education_level                   job_type  \n",
       "0              Secondary education              Self employed  \n",
       "1              No formal education       Government Dependent  \n",
       "2  Vocational/Specialised training              Self employed  \n",
       "3                Primary education  Formally employed Private  \n",
       "4                Primary education        Informally employed  "
      ]
     },
     "execution_count": 6,
     "metadata": {},
     "output_type": "execute_result"
    }
   ],
   "source": [
    "# Remove uniqueid columns values to only id\n",
    "df[\"uniqueid\"] = df[\"uniqueid\"].str.replace(\"uniqueid_\", \"\", regex = False)\n",
    "df.head()"
   ]
  },
  {
   "cell_type": "markdown",
   "id": "748c7985-d95f-439a-88c3-5bce2316cb13",
   "metadata": {},
   "source": [
    "I also set the index by 'uniqueid' since it looks cleaner than before. "
   ]
  },
  {
   "cell_type": "code",
   "execution_count": 7,
   "id": "1ed9df08-4815-4f59-89e4-cea6827435e3",
   "metadata": {},
   "outputs": [
    {
     "data": {
      "text/html": [
       "<div>\n",
       "<style scoped>\n",
       "    .dataframe tbody tr th:only-of-type {\n",
       "        vertical-align: middle;\n",
       "    }\n",
       "\n",
       "    .dataframe tbody tr th {\n",
       "        vertical-align: top;\n",
       "    }\n",
       "\n",
       "    .dataframe thead th {\n",
       "        text-align: right;\n",
       "    }\n",
       "</style>\n",
       "<table border=\"1\" class=\"dataframe\">\n",
       "  <thead>\n",
       "    <tr style=\"text-align: right;\">\n",
       "      <th></th>\n",
       "      <th>country</th>\n",
       "      <th>year</th>\n",
       "      <th>bank_account</th>\n",
       "      <th>location_type</th>\n",
       "      <th>cellphone_access</th>\n",
       "      <th>household_size</th>\n",
       "      <th>age_of_respondent</th>\n",
       "      <th>gender_of_respondent</th>\n",
       "      <th>relationship_with_head</th>\n",
       "      <th>marital_status</th>\n",
       "      <th>education_level</th>\n",
       "      <th>job_type</th>\n",
       "    </tr>\n",
       "    <tr>\n",
       "      <th>uniqueid</th>\n",
       "      <th></th>\n",
       "      <th></th>\n",
       "      <th></th>\n",
       "      <th></th>\n",
       "      <th></th>\n",
       "      <th></th>\n",
       "      <th></th>\n",
       "      <th></th>\n",
       "      <th></th>\n",
       "      <th></th>\n",
       "      <th></th>\n",
       "      <th></th>\n",
       "    </tr>\n",
       "  </thead>\n",
       "  <tbody>\n",
       "    <tr>\n",
       "      <th>1</th>\n",
       "      <td>Kenya</td>\n",
       "      <td>2018</td>\n",
       "      <td>Yes</td>\n",
       "      <td>Rural</td>\n",
       "      <td>Yes</td>\n",
       "      <td>3</td>\n",
       "      <td>24</td>\n",
       "      <td>Female</td>\n",
       "      <td>Spouse</td>\n",
       "      <td>Married/Living together</td>\n",
       "      <td>Secondary education</td>\n",
       "      <td>Self employed</td>\n",
       "    </tr>\n",
       "    <tr>\n",
       "      <th>2</th>\n",
       "      <td>Kenya</td>\n",
       "      <td>2018</td>\n",
       "      <td>No</td>\n",
       "      <td>Rural</td>\n",
       "      <td>No</td>\n",
       "      <td>5</td>\n",
       "      <td>70</td>\n",
       "      <td>Female</td>\n",
       "      <td>Head of Household</td>\n",
       "      <td>Widowed</td>\n",
       "      <td>No formal education</td>\n",
       "      <td>Government Dependent</td>\n",
       "    </tr>\n",
       "    <tr>\n",
       "      <th>3</th>\n",
       "      <td>Kenya</td>\n",
       "      <td>2018</td>\n",
       "      <td>Yes</td>\n",
       "      <td>Urban</td>\n",
       "      <td>Yes</td>\n",
       "      <td>5</td>\n",
       "      <td>26</td>\n",
       "      <td>Male</td>\n",
       "      <td>Other relative</td>\n",
       "      <td>Single/Never Married</td>\n",
       "      <td>Vocational/Specialised training</td>\n",
       "      <td>Self employed</td>\n",
       "    </tr>\n",
       "    <tr>\n",
       "      <th>4</th>\n",
       "      <td>Kenya</td>\n",
       "      <td>2018</td>\n",
       "      <td>No</td>\n",
       "      <td>Rural</td>\n",
       "      <td>Yes</td>\n",
       "      <td>5</td>\n",
       "      <td>34</td>\n",
       "      <td>Female</td>\n",
       "      <td>Head of Household</td>\n",
       "      <td>Married/Living together</td>\n",
       "      <td>Primary education</td>\n",
       "      <td>Formally employed Private</td>\n",
       "    </tr>\n",
       "    <tr>\n",
       "      <th>5</th>\n",
       "      <td>Kenya</td>\n",
       "      <td>2018</td>\n",
       "      <td>No</td>\n",
       "      <td>Urban</td>\n",
       "      <td>No</td>\n",
       "      <td>8</td>\n",
       "      <td>26</td>\n",
       "      <td>Male</td>\n",
       "      <td>Child</td>\n",
       "      <td>Single/Never Married</td>\n",
       "      <td>Primary education</td>\n",
       "      <td>Informally employed</td>\n",
       "    </tr>\n",
       "    <tr>\n",
       "      <th>...</th>\n",
       "      <td>...</td>\n",
       "      <td>...</td>\n",
       "      <td>...</td>\n",
       "      <td>...</td>\n",
       "      <td>...</td>\n",
       "      <td>...</td>\n",
       "      <td>...</td>\n",
       "      <td>...</td>\n",
       "      <td>...</td>\n",
       "      <td>...</td>\n",
       "      <td>...</td>\n",
       "      <td>...</td>\n",
       "    </tr>\n",
       "    <tr>\n",
       "      <th>2113</th>\n",
       "      <td>Uganda</td>\n",
       "      <td>2018</td>\n",
       "      <td>No</td>\n",
       "      <td>Rural</td>\n",
       "      <td>Yes</td>\n",
       "      <td>4</td>\n",
       "      <td>48</td>\n",
       "      <td>Female</td>\n",
       "      <td>Head of Household</td>\n",
       "      <td>Divorced/Seperated</td>\n",
       "      <td>No formal education</td>\n",
       "      <td>Other Income</td>\n",
       "    </tr>\n",
       "    <tr>\n",
       "      <th>2114</th>\n",
       "      <td>Uganda</td>\n",
       "      <td>2018</td>\n",
       "      <td>No</td>\n",
       "      <td>Rural</td>\n",
       "      <td>Yes</td>\n",
       "      <td>2</td>\n",
       "      <td>27</td>\n",
       "      <td>Female</td>\n",
       "      <td>Head of Household</td>\n",
       "      <td>Single/Never Married</td>\n",
       "      <td>Secondary education</td>\n",
       "      <td>Other Income</td>\n",
       "    </tr>\n",
       "    <tr>\n",
       "      <th>2115</th>\n",
       "      <td>Uganda</td>\n",
       "      <td>2018</td>\n",
       "      <td>No</td>\n",
       "      <td>Rural</td>\n",
       "      <td>Yes</td>\n",
       "      <td>5</td>\n",
       "      <td>27</td>\n",
       "      <td>Female</td>\n",
       "      <td>Parent</td>\n",
       "      <td>Widowed</td>\n",
       "      <td>Primary education</td>\n",
       "      <td>Other Income</td>\n",
       "    </tr>\n",
       "    <tr>\n",
       "      <th>2116</th>\n",
       "      <td>Uganda</td>\n",
       "      <td>2018</td>\n",
       "      <td>No</td>\n",
       "      <td>Urban</td>\n",
       "      <td>Yes</td>\n",
       "      <td>7</td>\n",
       "      <td>30</td>\n",
       "      <td>Female</td>\n",
       "      <td>Parent</td>\n",
       "      <td>Divorced/Seperated</td>\n",
       "      <td>Secondary education</td>\n",
       "      <td>Self employed</td>\n",
       "    </tr>\n",
       "    <tr>\n",
       "      <th>2117</th>\n",
       "      <td>Uganda</td>\n",
       "      <td>2018</td>\n",
       "      <td>No</td>\n",
       "      <td>Rural</td>\n",
       "      <td>Yes</td>\n",
       "      <td>10</td>\n",
       "      <td>20</td>\n",
       "      <td>Male</td>\n",
       "      <td>Child</td>\n",
       "      <td>Single/Never Married</td>\n",
       "      <td>Secondary education</td>\n",
       "      <td>No Income</td>\n",
       "    </tr>\n",
       "  </tbody>\n",
       "</table>\n",
       "<p>23524 rows × 12 columns</p>\n",
       "</div>"
      ],
      "text/plain": [
       "         country  year bank_account location_type cellphone_access  \\\n",
       "uniqueid                                                             \n",
       "1          Kenya  2018          Yes         Rural              Yes   \n",
       "2          Kenya  2018           No         Rural               No   \n",
       "3          Kenya  2018          Yes         Urban              Yes   \n",
       "4          Kenya  2018           No         Rural              Yes   \n",
       "5          Kenya  2018           No         Urban               No   \n",
       "...          ...   ...          ...           ...              ...   \n",
       "2113      Uganda  2018           No         Rural              Yes   \n",
       "2114      Uganda  2018           No         Rural              Yes   \n",
       "2115      Uganda  2018           No         Rural              Yes   \n",
       "2116      Uganda  2018           No         Urban              Yes   \n",
       "2117      Uganda  2018           No         Rural              Yes   \n",
       "\n",
       "          household_size  age_of_respondent gender_of_respondent  \\\n",
       "uniqueid                                                           \n",
       "1                      3                 24               Female   \n",
       "2                      5                 70               Female   \n",
       "3                      5                 26                 Male   \n",
       "4                      5                 34               Female   \n",
       "5                      8                 26                 Male   \n",
       "...                  ...                ...                  ...   \n",
       "2113                   4                 48               Female   \n",
       "2114                   2                 27               Female   \n",
       "2115                   5                 27               Female   \n",
       "2116                   7                 30               Female   \n",
       "2117                  10                 20                 Male   \n",
       "\n",
       "         relationship_with_head           marital_status  \\\n",
       "uniqueid                                                   \n",
       "1                        Spouse  Married/Living together   \n",
       "2             Head of Household                  Widowed   \n",
       "3                Other relative     Single/Never Married   \n",
       "4             Head of Household  Married/Living together   \n",
       "5                         Child     Single/Never Married   \n",
       "...                         ...                      ...   \n",
       "2113          Head of Household       Divorced/Seperated   \n",
       "2114          Head of Household     Single/Never Married   \n",
       "2115                     Parent                  Widowed   \n",
       "2116                     Parent       Divorced/Seperated   \n",
       "2117                      Child     Single/Never Married   \n",
       "\n",
       "                          education_level                   job_type  \n",
       "uniqueid                                                              \n",
       "1                     Secondary education              Self employed  \n",
       "2                     No formal education       Government Dependent  \n",
       "3         Vocational/Specialised training              Self employed  \n",
       "4                       Primary education  Formally employed Private  \n",
       "5                       Primary education        Informally employed  \n",
       "...                                   ...                        ...  \n",
       "2113                  No formal education               Other Income  \n",
       "2114                  Secondary education               Other Income  \n",
       "2115                    Primary education               Other Income  \n",
       "2116                  Secondary education              Self employed  \n",
       "2117                  Secondary education                  No Income  \n",
       "\n",
       "[23524 rows x 12 columns]"
      ]
     },
     "execution_count": 7,
     "metadata": {},
     "output_type": "execute_result"
    }
   ],
   "source": [
    "df = df.set_index('uniqueid')\n",
    "df"
   ]
  },
  {
   "cell_type": "markdown",
   "id": "36bc4028-45d8-4cec-a039-74ecf85b4e37",
   "metadata": {},
   "source": [
    "We also need to determine missing values in the data before making machine learning models to predict. \n",
    "As this show, we don't have any missing values in the dataset. "
   ]
  },
  {
   "cell_type": "code",
   "execution_count": 8,
   "id": "ab12c8b4-c3b6-45d2-bcfa-c28daf5fa685",
   "metadata": {},
   "outputs": [
    {
     "data": {
      "text/plain": [
       "country                   0\n",
       "year                      0\n",
       "bank_account              0\n",
       "location_type             0\n",
       "cellphone_access          0\n",
       "household_size            0\n",
       "age_of_respondent         0\n",
       "gender_of_respondent      0\n",
       "relationship_with_head    0\n",
       "marital_status            0\n",
       "education_level           0\n",
       "job_type                  0\n",
       "dtype: int64"
      ]
     },
     "execution_count": 8,
     "metadata": {},
     "output_type": "execute_result"
    }
   ],
   "source": [
    "# Determine missing values\n",
    "df.isnull().sum()"
   ]
  },
  {
   "cell_type": "markdown",
   "id": "acb8ed8f-1673-47fa-b7b7-01751abc5faf",
   "metadata": {},
   "source": [
    "Since the machine learning model can't load categorical values, we need to express categorical variables as numerical variables. Here, I use LabelEncoder() to execute it."
   ]
  },
  {
   "cell_type": "code",
   "execution_count": 9,
   "id": "2e3c98d8-9d71-4dc0-873b-bb7ad033713a",
   "metadata": {},
   "outputs": [
    {
     "data": {
      "text/html": [
       "<div>\n",
       "<style scoped>\n",
       "    .dataframe tbody tr th:only-of-type {\n",
       "        vertical-align: middle;\n",
       "    }\n",
       "\n",
       "    .dataframe tbody tr th {\n",
       "        vertical-align: top;\n",
       "    }\n",
       "\n",
       "    .dataframe thead th {\n",
       "        text-align: right;\n",
       "    }\n",
       "</style>\n",
       "<table border=\"1\" class=\"dataframe\">\n",
       "  <thead>\n",
       "    <tr style=\"text-align: right;\">\n",
       "      <th></th>\n",
       "      <th>country</th>\n",
       "      <th>year</th>\n",
       "      <th>bank_account</th>\n",
       "      <th>location_type</th>\n",
       "      <th>cellphone_access</th>\n",
       "      <th>household_size</th>\n",
       "      <th>age_of_respondent</th>\n",
       "      <th>gender_of_respondent</th>\n",
       "      <th>relationship_with_head</th>\n",
       "      <th>marital_status</th>\n",
       "      <th>education_level</th>\n",
       "      <th>job_type</th>\n",
       "    </tr>\n",
       "    <tr>\n",
       "      <th>uniqueid</th>\n",
       "      <th></th>\n",
       "      <th></th>\n",
       "      <th></th>\n",
       "      <th></th>\n",
       "      <th></th>\n",
       "      <th></th>\n",
       "      <th></th>\n",
       "      <th></th>\n",
       "      <th></th>\n",
       "      <th></th>\n",
       "      <th></th>\n",
       "      <th></th>\n",
       "    </tr>\n",
       "  </thead>\n",
       "  <tbody>\n",
       "    <tr>\n",
       "      <th>1</th>\n",
       "      <td>0</td>\n",
       "      <td>2018</td>\n",
       "      <td>1</td>\n",
       "      <td>0</td>\n",
       "      <td>1</td>\n",
       "      <td>3</td>\n",
       "      <td>24</td>\n",
       "      <td>0</td>\n",
       "      <td>5</td>\n",
       "      <td>2</td>\n",
       "      <td>3</td>\n",
       "      <td>9</td>\n",
       "    </tr>\n",
       "    <tr>\n",
       "      <th>2</th>\n",
       "      <td>0</td>\n",
       "      <td>2018</td>\n",
       "      <td>0</td>\n",
       "      <td>0</td>\n",
       "      <td>0</td>\n",
       "      <td>5</td>\n",
       "      <td>70</td>\n",
       "      <td>0</td>\n",
       "      <td>1</td>\n",
       "      <td>4</td>\n",
       "      <td>0</td>\n",
       "      <td>4</td>\n",
       "    </tr>\n",
       "    <tr>\n",
       "      <th>3</th>\n",
       "      <td>0</td>\n",
       "      <td>2018</td>\n",
       "      <td>1</td>\n",
       "      <td>1</td>\n",
       "      <td>1</td>\n",
       "      <td>5</td>\n",
       "      <td>26</td>\n",
       "      <td>1</td>\n",
       "      <td>3</td>\n",
       "      <td>3</td>\n",
       "      <td>5</td>\n",
       "      <td>9</td>\n",
       "    </tr>\n",
       "    <tr>\n",
       "      <th>4</th>\n",
       "      <td>0</td>\n",
       "      <td>2018</td>\n",
       "      <td>0</td>\n",
       "      <td>0</td>\n",
       "      <td>1</td>\n",
       "      <td>5</td>\n",
       "      <td>34</td>\n",
       "      <td>0</td>\n",
       "      <td>1</td>\n",
       "      <td>2</td>\n",
       "      <td>2</td>\n",
       "      <td>3</td>\n",
       "    </tr>\n",
       "    <tr>\n",
       "      <th>5</th>\n",
       "      <td>0</td>\n",
       "      <td>2018</td>\n",
       "      <td>0</td>\n",
       "      <td>1</td>\n",
       "      <td>0</td>\n",
       "      <td>8</td>\n",
       "      <td>26</td>\n",
       "      <td>1</td>\n",
       "      <td>0</td>\n",
       "      <td>3</td>\n",
       "      <td>2</td>\n",
       "      <td>5</td>\n",
       "    </tr>\n",
       "    <tr>\n",
       "      <th>...</th>\n",
       "      <td>...</td>\n",
       "      <td>...</td>\n",
       "      <td>...</td>\n",
       "      <td>...</td>\n",
       "      <td>...</td>\n",
       "      <td>...</td>\n",
       "      <td>...</td>\n",
       "      <td>...</td>\n",
       "      <td>...</td>\n",
       "      <td>...</td>\n",
       "      <td>...</td>\n",
       "      <td>...</td>\n",
       "    </tr>\n",
       "    <tr>\n",
       "      <th>2113</th>\n",
       "      <td>3</td>\n",
       "      <td>2018</td>\n",
       "      <td>0</td>\n",
       "      <td>0</td>\n",
       "      <td>1</td>\n",
       "      <td>4</td>\n",
       "      <td>48</td>\n",
       "      <td>0</td>\n",
       "      <td>1</td>\n",
       "      <td>0</td>\n",
       "      <td>0</td>\n",
       "      <td>7</td>\n",
       "    </tr>\n",
       "    <tr>\n",
       "      <th>2114</th>\n",
       "      <td>3</td>\n",
       "      <td>2018</td>\n",
       "      <td>0</td>\n",
       "      <td>0</td>\n",
       "      <td>1</td>\n",
       "      <td>2</td>\n",
       "      <td>27</td>\n",
       "      <td>0</td>\n",
       "      <td>1</td>\n",
       "      <td>3</td>\n",
       "      <td>3</td>\n",
       "      <td>7</td>\n",
       "    </tr>\n",
       "    <tr>\n",
       "      <th>2115</th>\n",
       "      <td>3</td>\n",
       "      <td>2018</td>\n",
       "      <td>0</td>\n",
       "      <td>0</td>\n",
       "      <td>1</td>\n",
       "      <td>5</td>\n",
       "      <td>27</td>\n",
       "      <td>0</td>\n",
       "      <td>4</td>\n",
       "      <td>4</td>\n",
       "      <td>2</td>\n",
       "      <td>7</td>\n",
       "    </tr>\n",
       "    <tr>\n",
       "      <th>2116</th>\n",
       "      <td>3</td>\n",
       "      <td>2018</td>\n",
       "      <td>0</td>\n",
       "      <td>1</td>\n",
       "      <td>1</td>\n",
       "      <td>7</td>\n",
       "      <td>30</td>\n",
       "      <td>0</td>\n",
       "      <td>4</td>\n",
       "      <td>0</td>\n",
       "      <td>3</td>\n",
       "      <td>9</td>\n",
       "    </tr>\n",
       "    <tr>\n",
       "      <th>2117</th>\n",
       "      <td>3</td>\n",
       "      <td>2018</td>\n",
       "      <td>0</td>\n",
       "      <td>0</td>\n",
       "      <td>1</td>\n",
       "      <td>10</td>\n",
       "      <td>20</td>\n",
       "      <td>1</td>\n",
       "      <td>0</td>\n",
       "      <td>3</td>\n",
       "      <td>3</td>\n",
       "      <td>6</td>\n",
       "    </tr>\n",
       "  </tbody>\n",
       "</table>\n",
       "<p>23524 rows × 12 columns</p>\n",
       "</div>"
      ],
      "text/plain": [
       "          country  year  bank_account  location_type  cellphone_access  \\\n",
       "uniqueid                                                                 \n",
       "1               0  2018             1              0                 1   \n",
       "2               0  2018             0              0                 0   \n",
       "3               0  2018             1              1                 1   \n",
       "4               0  2018             0              0                 1   \n",
       "5               0  2018             0              1                 0   \n",
       "...           ...   ...           ...            ...               ...   \n",
       "2113            3  2018             0              0                 1   \n",
       "2114            3  2018             0              0                 1   \n",
       "2115            3  2018             0              0                 1   \n",
       "2116            3  2018             0              1                 1   \n",
       "2117            3  2018             0              0                 1   \n",
       "\n",
       "          household_size  age_of_respondent  gender_of_respondent  \\\n",
       "uniqueid                                                            \n",
       "1                      3                 24                     0   \n",
       "2                      5                 70                     0   \n",
       "3                      5                 26                     1   \n",
       "4                      5                 34                     0   \n",
       "5                      8                 26                     1   \n",
       "...                  ...                ...                   ...   \n",
       "2113                   4                 48                     0   \n",
       "2114                   2                 27                     0   \n",
       "2115                   5                 27                     0   \n",
       "2116                   7                 30                     0   \n",
       "2117                  10                 20                     1   \n",
       "\n",
       "          relationship_with_head  marital_status  education_level  job_type  \n",
       "uniqueid                                                                     \n",
       "1                              5               2                3         9  \n",
       "2                              1               4                0         4  \n",
       "3                              3               3                5         9  \n",
       "4                              1               2                2         3  \n",
       "5                              0               3                2         5  \n",
       "...                          ...             ...              ...       ...  \n",
       "2113                           1               0                0         7  \n",
       "2114                           1               3                3         7  \n",
       "2115                           4               4                2         7  \n",
       "2116                           4               0                3         9  \n",
       "2117                           0               3                3         6  \n",
       "\n",
       "[23524 rows x 12 columns]"
      ]
     },
     "execution_count": 9,
     "metadata": {},
     "output_type": "execute_result"
    }
   ],
   "source": [
    "# Encoding \n",
    "\n",
    "df1 = df.copy()\n",
    "\n",
    "from sklearn.preprocessing import LabelEncoder\n",
    "encoder = LabelEncoder()\n",
    "for col in df.select_dtypes(include = 'object').columns:\n",
    "    df1[col] = encoder.fit_transform(df1[col])\n",
    "\n",
    "df1"
   ]
  },
  {
   "cell_type": "code",
   "execution_count": 10,
   "id": "d3a30ddb-dc1f-4717-ab58-44bb3df75a5c",
   "metadata": {},
   "outputs": [
    {
     "name": "stdout",
     "output_type": "stream",
     "text": [
      "<class 'pandas.core.frame.DataFrame'>\n",
      "Index: 23524 entries, 1 to 2117\n",
      "Data columns (total 12 columns):\n",
      " #   Column                  Non-Null Count  Dtype\n",
      "---  ------                  --------------  -----\n",
      " 0   country                 23524 non-null  int64\n",
      " 1   year                    23524 non-null  int64\n",
      " 2   bank_account            23524 non-null  int64\n",
      " 3   location_type           23524 non-null  int64\n",
      " 4   cellphone_access        23524 non-null  int64\n",
      " 5   household_size          23524 non-null  int64\n",
      " 6   age_of_respondent       23524 non-null  int64\n",
      " 7   gender_of_respondent    23524 non-null  int64\n",
      " 8   relationship_with_head  23524 non-null  int64\n",
      " 9   marital_status          23524 non-null  int64\n",
      " 10  education_level         23524 non-null  int64\n",
      " 11  job_type                23524 non-null  int64\n",
      "dtypes: int64(12)\n",
      "memory usage: 2.3+ MB\n"
     ]
    }
   ],
   "source": [
    "df1.info()"
   ]
  },
  {
   "cell_type": "markdown",
   "id": "588d1bfc-869b-445a-8bd1-c99f80ea91a0",
   "metadata": {},
   "source": [
    "The df1 looks clean and doesn't contain any categorical columns. Therefore, we nailed the step 1: Data Preprocessing."
   ]
  },
  {
   "cell_type": "markdown",
   "id": "c5ac9353-bf52-41e1-a179-4b08af92ad08",
   "metadata": {},
   "source": [
    "## Exploratory Data Analysis"
   ]
  },
  {
   "cell_type": "markdown",
   "id": "f21ff6fa-7a10-43d9-8620-9dd51df76990",
   "metadata": {},
   "source": [
    "In this section, I will explore the relationships between variables, identify outliers, and gain insights into the data. "
   ]
  },
  {
   "cell_type": "markdown",
   "id": "59dc8ecb-2db9-4bb9-aaa6-cc75e014170b",
   "metadata": {},
   "source": [
    "First, I want to see the correlation between 'bank_account' in the data."
   ]
  },
  {
   "cell_type": "code",
   "execution_count": 11,
   "id": "6e0436e2-37e9-40b1-b588-c3814b4a20e2",
   "metadata": {},
   "outputs": [
    {
     "data": {
      "text/plain": [
       "bank_account              1.000000\n",
       "education_level           0.323768\n",
       "cellphone_access          0.209669\n",
       "gender_of_respondent      0.117234\n",
       "year                      0.112318\n",
       "location_type             0.087288\n",
       "age_of_respondent         0.019429\n",
       "household_size           -0.028326\n",
       "marital_status           -0.038739\n",
       "job_type                 -0.064171\n",
       "relationship_with_head   -0.070853\n",
       "country                  -0.161362\n",
       "Name: bank_account, dtype: float64"
      ]
     },
     "execution_count": 11,
     "metadata": {},
     "output_type": "execute_result"
    }
   ],
   "source": [
    "df1.corr()['bank_account'].sort_values(ascending = False)"
   ]
  },
  {
   "cell_type": "markdown",
   "id": "6d19f1ce-dc3b-4902-9b9e-ce727b0466ee",
   "metadata": {},
   "source": [
    "This shows that the 'education_level' has the strongest positive correlation with 'bank_account' in the data, while 'age_of_respondent' doesn't affect the 'bank_account'. "
   ]
  },
  {
   "cell_type": "markdown",
   "id": "edc1f7e2-965f-4083-9986-52d0067fdb0e",
   "metadata": {},
   "source": [
    "These graphs represent the relationship between 'bank_account'. "
   ]
  },
  {
   "cell_type": "code",
   "execution_count": 12,
   "id": "191fd013-13a1-47b3-a772-75557c52f01b",
   "metadata": {},
   "outputs": [
    {
     "data": {
      "image/png": "[encoded data removed]",
      "text/plain": [
       "<Figure size 1800x600 with 3 Axes>"
      ]
     },
     "metadata": {},
     "output_type": "display_data"
    }
   ],
   "source": [
    "# Count plot of bank account ownership by factors which are high correlations with bank_account\n",
    "plt.figure(figsize = (18,6))\n",
    "\n",
    "plt.subplot(1,3,1)\n",
    "sns.countplot(x = 'bank_account', hue = 'education_level', data = df)\n",
    "plt.title('Bank account ownership by education level')\n",
    "\n",
    "plt.subplot(1, 3, 2)\n",
    "sns.countplot(x = 'bank_account', hue= 'cellphone_access', data =df)\n",
    "plt.title('Bank account ownership by cellphone access')\n",
    "\n",
    "plt.subplot(1,3,3)\n",
    "sns.countplot(x = 'bank_account', hue = 'country', data = df)\n",
    "plt.title('Bank account ownership by country')\n",
    "plt.show()"
   ]
  },
  {
   "cell_type": "markdown",
   "id": "e4e88d0e-2416-4b3d-930a-9efdbcf089e8",
   "metadata": {},
   "source": [
    "From these graphs, we can gain some insights that when people end their education in primary education, they don't have a bank account. Moreover, people who don't have a cellphone are not able to hold a bank account. \n",
    "Interestingly, there is no big difference among countries except Kenya. "
   ]
  },
  {
   "cell_type": "markdown",
   "id": "f3558f8d-f865-4206-a759-4cb04ac816af",
   "metadata": {},
   "source": [
    "Before moving on to building the machine learning models, I want to explore the relationships between country and year regarding bank account ownership. "
   ]
  },
  {
   "cell_type": "code",
   "execution_count": 13,
   "id": "4bade6a1-8592-4c82-901d-9a897d1da72b",
   "metadata": {},
   "outputs": [
    {
     "data": {
      "text/plain": [
       "array([2018, 2016, 2017])"
      ]
     },
     "execution_count": 13,
     "metadata": {},
     "output_type": "execute_result"
    }
   ],
   "source": [
    "# Identify how many years are in the dataset\n",
    "df['year'].unique()"
   ]
  },
  {
   "cell_type": "code",
   "execution_count": 14,
   "id": "83c18ac9-d91e-444b-b950-1dd5a63e1a91",
   "metadata": {},
   "outputs": [
    {
     "data": {
      "image/png": "[encoded data removed]",
      "text/plain": [
       "<Figure size 1607.86x500 with 3 Axes>"
      ]
     },
     "metadata": {},
     "output_type": "display_data"
    }
   ],
   "source": [
    "# Make a plot \n",
    "sns.catplot(kind = 'count', x = 'country', hue = 'bank_account', col = 'year', data = df)\n",
    "plt.show()"
   ]
  },
  {
   "cell_type": "markdown",
   "id": "7c94d37f-a1c3-4351-9f6c-11f5ae6014d0",
   "metadata": {},
   "source": [
    "Notably, each country was surveyed in only one year, suggesting that grouping by country or year could introduce significant bias, since the world changes in the speed of light in this era."
   ]
  },
  {
   "cell_type": "code",
   "execution_count": 15,
   "id": "6c23a386-aae5-4e49-8795-3709aa589554",
   "metadata": {},
   "outputs": [
    {
     "data": {
      "text/plain": [
       "array([2016])"
      ]
     },
     "execution_count": 15,
     "metadata": {},
     "output_type": "execute_result"
    }
   ],
   "source": [
    "# Confirming the plot is true\n",
    "df[df['country'] == 'Rwanda'].year.unique()"
   ]
  },
  {
   "cell_type": "markdown",
   "id": "e76c4fc8-c846-482c-bccb-6ea0095c6c6e",
   "metadata": {},
   "source": [
    "## Model Building"
   ]
  },
  {
   "cell_type": "markdown",
   "id": "6f6af4f8-cc1f-49e1-9758-10df45e239b5",
   "metadata": {},
   "source": [
    "In this section, I will build some machine learning models to forecast the bank account ownership by data. \n",
    "I will explore logistic regression, random forest, and gradient boosting. "
   ]
  },
  {
   "cell_type": "markdown",
   "id": "1400cba5-16ad-4533-a064-d8ca5bfdd058",
   "metadata": {},
   "source": [
    "First, I split the data into training and test sets to prepare for model development."
   ]
  },
  {
   "cell_type": "code",
   "execution_count": 16,
   "id": "330ad5bf-1873-461b-a30c-bbf52b4d048e",
   "metadata": {},
   "outputs": [],
   "source": [
    "# Split as features and target\n",
    "X = df1.drop('bank_account',axis =1)\n",
    "y = df1['bank_account']\n",
    "\n",
    "# Split into train and test datasets\n",
    "from sklearn.model_selection import train_test_split\n",
    "X_train, X_test, y_train, y_test = train_test_split(X, y, test_size = 0.3, random_state =42)"
   ]
  },
  {
   "cell_type": "markdown",
   "id": "2850ee93-57f7-4a92-a291-58f1a8ab9759",
   "metadata": {},
   "source": [
    "I began by building a logistic regression model."
   ]
  },
  {
   "cell_type": "code",
   "execution_count": 17,
   "id": "8ae2c73a-abdd-4830-8079-94531813f379",
   "metadata": {},
   "outputs": [
    {
     "name": "stderr",
     "output_type": "stream",
     "text": [
      "/opt/conda/envs/anaconda-2024.02-py310/lib/python3.10/site-packages/sklearn/linear_model/_logistic.py:460: ConvergenceWarning: lbfgs failed to converge (status=1):\n",
      "STOP: TOTAL NO. of ITERATIONS REACHED LIMIT.\n",
      "\n",
      "Increase the number of iterations (max_iter) or scale the data as shown in:\n",
      "    https://scikit-learn.org/stable/modules/preprocessing.html\n",
      "Please also refer to the documentation for alternative solver options:\n",
      "    https://scikit-learn.org/stable/modules/linear_model.html#logistic-regression\n",
      "  n_iter_i = _check_optimize_result(\n"
     ]
    },
    {
     "data": {
      "text/html": [
       "<style>#sk-container-id-1 {color: black;}#sk-container-id-1 pre{padding: 0;}#sk-container-id-1 div.sk-toggleable {background-color: white;}#sk-container-id-1 label.sk-toggleable__label {cursor: pointer;display: block;width: 100%;margin-bottom: 0;padding: 0.3em;box-sizing: border-box;text-align: center;}#sk-container-id-1 label.sk-toggleable__label-arrow:before {content: \"▸\";float: left;margin-right: 0.25em;color: #696969;}#sk-container-id-1 label.sk-toggleable__label-arrow:hover:before {color: black;}#sk-container-id-1 div.sk-estimator:hover label.sk-toggleable__label-arrow:before {color: black;}#sk-container-id-1 div.sk-toggleable__content {max-height: 0;max-width: 0;overflow: hidden;text-align: left;background-color: #f0f8ff;}#sk-container-id-1 div.sk-toggleable__content pre {margin: 0.2em;color: black;border-radius: 0.25em;background-color: #f0f8ff;}#sk-container-id-1 input.sk-toggleable__control:checked~div.sk-toggleable__content {max-height: 200px;max-width: 100%;overflow: auto;}#sk-container-id-1 input.sk-toggleable__control:checked~label.sk-toggleable__label-arrow:before {content: \"▾\";}#sk-container-id-1 div.sk-estimator input.sk-toggleable__control:checked~label.sk-toggleable__label {background-color: #d4ebff;}#sk-container-id-1 div.sk-label input.sk-toggleable__control:checked~label.sk-toggleable__label {background-color: #d4ebff;}#sk-container-id-1 input.sk-hidden--visually {border: 0;clip: rect(1px 1px 1px 1px);clip: rect(1px, 1px, 1px, 1px);height: 1px;margin: -1px;overflow: hidden;padding: 0;position: absolute;width: 1px;}#sk-container-id-1 div.sk-estimator {font-family: monospace;background-color: #f0f8ff;border: 1px dotted black;border-radius: 0.25em;box-sizing: border-box;margin-bottom: 0.5em;}#sk-container-id-1 div.sk-estimator:hover {background-color: #d4ebff;}#sk-container-id-1 div.sk-parallel-item::after {content: \"\";width: 100%;border-bottom: 1px solid gray;flex-grow: 1;}#sk-container-id-1 div.sk-label:hover label.sk-toggleable__label {background-color: #d4ebff;}#sk-container-id-1 div.sk-serial::before {content: \"\";position: absolute;border-left: 1px solid gray;box-sizing: border-box;top: 0;bottom: 0;left: 50%;z-index: 0;}#sk-container-id-1 div.sk-serial {display: flex;flex-direction: column;align-items: center;background-color: white;padding-right: 0.2em;padding-left: 0.2em;position: relative;}#sk-container-id-1 div.sk-item {position: relative;z-index: 1;}#sk-container-id-1 div.sk-parallel {display: flex;align-items: stretch;justify-content: center;background-color: white;position: relative;}#sk-container-id-1 div.sk-item::before, #sk-container-id-1 div.sk-parallel-item::before {content: \"\";position: absolute;border-left: 1px solid gray;box-sizing: border-box;top: 0;bottom: 0;left: 50%;z-index: -1;}#sk-container-id-1 div.sk-parallel-item {display: flex;flex-direction: column;z-index: 1;position: relative;background-color: white;}#sk-container-id-1 div.sk-parallel-item:first-child::after {align-self: flex-end;width: 50%;}#sk-container-id-1 div.sk-parallel-item:last-child::after {align-self: flex-start;width: 50%;}#sk-container-id-1 div.sk-parallel-item:only-child::after {width: 0;}#sk-container-id-1 div.sk-dashed-wrapped {border: 1px dashed gray;margin: 0 0.4em 0.5em 0.4em;box-sizing: border-box;padding-bottom: 0.4em;background-color: white;}#sk-container-id-1 div.sk-label label {font-family: monospace;font-weight: bold;display: inline-block;line-height: 1.2em;}#sk-container-id-1 div.sk-label-container {text-align: center;}#sk-container-id-1 div.sk-container {/* jupyter's `normalize.less` sets `[hidden] { display: none; }` but bootstrap.min.css set `[hidden] { display: none !important; }` so we also need the `!important` here to be able to override the default hidden behavior on the sphinx rendered scikit-learn.org. See: https://github.com/scikit-learn/scikit-learn/issues/21755 */display: inline-block !important;position: relative;}#sk-container-id-1 div.sk-text-repr-fallback {display: none;}</style><div id=\"sk-container-id-1\" class=\"sk-top-container\"><div class=\"sk-text-repr-fallback\"><pre>LogisticRegression()</pre><b>In a Jupyter environment, please rerun this cell to show the HTML representation or trust the notebook. <br />On GitHub, the HTML representation is unable to render, please try loading this page with nbviewer.org.</b></div><div class=\"sk-container\" hidden><div class=\"sk-item\"><div class=\"sk-estimator sk-toggleable\"><input class=\"sk-toggleable__control sk-hidden--visually\" id=\"sk-estimator-id-1\" type=\"checkbox\" checked><label for=\"sk-estimator-id-1\" class=\"sk-toggleable__label sk-toggleable__label-arrow\">LogisticRegression</label><div class=\"sk-toggleable__content\"><pre>LogisticRegression()</pre></div></div></div></div></div>"
      ],
      "text/plain": [
       "LogisticRegression()"
      ]
     },
     "execution_count": 17,
     "metadata": {},
     "output_type": "execute_result"
    }
   ],
   "source": [
    "# Building the logistic regression model\n",
    "from sklearn.linear_model import LogisticRegression\n",
    "\n",
    "LRmodel = LogisticRegression()\n",
    "LRmodel.fit(X_train, y_train)"
   ]
  },
  {
   "cell_type": "markdown",
   "id": "bcf88c58-a434-48b7-9f13-0d4d489ab0e2",
   "metadata": {},
   "source": [
    "Next, we build the random forest classifier. "
   ]
  },
  {
   "cell_type": "code",
   "execution_count": 18,
   "id": "9268c9ed-22a4-4773-ad80-6568425dc325",
   "metadata": {},
   "outputs": [
    {
     "data": {
      "text/html": [
       "<style>#sk-container-id-2 {color: black;}#sk-container-id-2 pre{padding: 0;}#sk-container-id-2 div.sk-toggleable {background-color: white;}#sk-container-id-2 label.sk-toggleable__label {cursor: pointer;display: block;width: 100%;margin-bottom: 0;padding: 0.3em;box-sizing: border-box;text-align: center;}#sk-container-id-2 label.sk-toggleable__label-arrow:before {content: \"▸\";float: left;margin-right: 0.25em;color: #696969;}#sk-container-id-2 label.sk-toggleable__label-arrow:hover:before {color: black;}#sk-container-id-2 div.sk-estimator:hover label.sk-toggleable__label-arrow:before {color: black;}#sk-container-id-2 div.sk-toggleable__content {max-height: 0;max-width: 0;overflow: hidden;text-align: left;background-color: #f0f8ff;}#sk-container-id-2 div.sk-toggleable__content pre {margin: 0.2em;color: black;border-radius: 0.25em;background-color: #f0f8ff;}#sk-container-id-2 input.sk-toggleable__control:checked~div.sk-toggleable__content {max-height: 200px;max-width: 100%;overflow: auto;}#sk-container-id-2 input.sk-toggleable__control:checked~label.sk-toggleable__label-arrow:before {content: \"▾\";}#sk-container-id-2 div.sk-estimator input.sk-toggleable__control:checked~label.sk-toggleable__label {background-color: #d4ebff;}#sk-container-id-2 div.sk-label input.sk-toggleable__control:checked~label.sk-toggleable__label {background-color: #d4ebff;}#sk-container-id-2 input.sk-hidden--visually {border: 0;clip: rect(1px 1px 1px 1px);clip: rect(1px, 1px, 1px, 1px);height: 1px;margin: -1px;overflow: hidden;padding: 0;position: absolute;width: 1px;}#sk-container-id-2 div.sk-estimator {font-family: monospace;background-color: #f0f8ff;border: 1px dotted black;border-radius: 0.25em;box-sizing: border-box;margin-bottom: 0.5em;}#sk-container-id-2 div.sk-estimator:hover {background-color: #d4ebff;}#sk-container-id-2 div.sk-parallel-item::after {content: \"\";width: 100%;border-bottom: 1px solid gray;flex-grow: 1;}#sk-container-id-2 div.sk-label:hover label.sk-toggleable__label {background-color: #d4ebff;}#sk-container-id-2 div.sk-serial::before {content: \"\";position: absolute;border-left: 1px solid gray;box-sizing: border-box;top: 0;bottom: 0;left: 50%;z-index: 0;}#sk-container-id-2 div.sk-serial {display: flex;flex-direction: column;align-items: center;background-color: white;padding-right: 0.2em;padding-left: 0.2em;position: relative;}#sk-container-id-2 div.sk-item {position: relative;z-index: 1;}#sk-container-id-2 div.sk-parallel {display: flex;align-items: stretch;justify-content: center;background-color: white;position: relative;}#sk-container-id-2 div.sk-item::before, #sk-container-id-2 div.sk-parallel-item::before {content: \"\";position: absolute;border-left: 1px solid gray;box-sizing: border-box;top: 0;bottom: 0;left: 50%;z-index: -1;}#sk-container-id-2 div.sk-parallel-item {display: flex;flex-direction: column;z-index: 1;position: relative;background-color: white;}#sk-container-id-2 div.sk-parallel-item:first-child::after {align-self: flex-end;width: 50%;}#sk-container-id-2 div.sk-parallel-item:last-child::after {align-self: flex-start;width: 50%;}#sk-container-id-2 div.sk-parallel-item:only-child::after {width: 0;}#sk-container-id-2 div.sk-dashed-wrapped {border: 1px dashed gray;margin: 0 0.4em 0.5em 0.4em;box-sizing: border-box;padding-bottom: 0.4em;background-color: white;}#sk-container-id-2 div.sk-label label {font-family: monospace;font-weight: bold;display: inline-block;line-height: 1.2em;}#sk-container-id-2 div.sk-label-container {text-align: center;}#sk-container-id-2 div.sk-container {/* jupyter's `normalize.less` sets `[hidden] { display: none; }` but bootstrap.min.css set `[hidden] { display: none !important; }` so we also need the `!important` here to be able to override the default hidden behavior on the sphinx rendered scikit-learn.org. See: https://github.com/scikit-learn/scikit-learn/issues/21755 */display: inline-block !important;position: relative;}#sk-container-id-2 div.sk-text-repr-fallback {display: none;}</style><div id=\"sk-container-id-2\" class=\"sk-top-container\"><div class=\"sk-text-repr-fallback\"><pre>RandomForestClassifier(max_depth=3, random_state=42)</pre><b>In a Jupyter environment, please rerun this cell to show the HTML representation or trust the notebook. <br />On GitHub, the HTML representation is unable to render, please try loading this page with nbviewer.org.</b></div><div class=\"sk-container\" hidden><div class=\"sk-item\"><div class=\"sk-estimator sk-toggleable\"><input class=\"sk-toggleable__control sk-hidden--visually\" id=\"sk-estimator-id-2\" type=\"checkbox\" checked><label for=\"sk-estimator-id-2\" class=\"sk-toggleable__label sk-toggleable__label-arrow\">RandomForestClassifier</label><div class=\"sk-toggleable__content\"><pre>RandomForestClassifier(max_depth=3, random_state=42)</pre></div></div></div></div></div>"
      ],
      "text/plain": [
       "RandomForestClassifier(max_depth=3, random_state=42)"
      ]
     },
     "execution_count": 18,
     "metadata": {},
     "output_type": "execute_result"
    }
   ],
   "source": [
    "# Random Forest\n",
    "\n",
    "from sklearn.ensemble import RandomForestClassifier\n",
    "RFmodel = RandomForestClassifier(n_estimators = 100, max_depth = 3, random_state = 42)\n",
    "RFmodel.fit(X_train, y_train)"
   ]
  },
  {
   "cell_type": "markdown",
   "id": "921e3f01-94ce-4bcc-bcb5-6ee3854e5f05",
   "metadata": {},
   "source": [
    "Lastly, we build a gradient boosting model."
   ]
  },
  {
   "cell_type": "code",
   "execution_count": 19,
   "id": "7e81ccea-7fd6-4863-81b4-e4a6162b5c2e",
   "metadata": {},
   "outputs": [
    {
     "data": {
      "text/html": [
       "<style>#sk-container-id-3 {color: black;}#sk-container-id-3 pre{padding: 0;}#sk-container-id-3 div.sk-toggleable {background-color: white;}#sk-container-id-3 label.sk-toggleable__label {cursor: pointer;display: block;width: 100%;margin-bottom: 0;padding: 0.3em;box-sizing: border-box;text-align: center;}#sk-container-id-3 label.sk-toggleable__label-arrow:before {content: \"▸\";float: left;margin-right: 0.25em;color: #696969;}#sk-container-id-3 label.sk-toggleable__label-arrow:hover:before {color: black;}#sk-container-id-3 div.sk-estimator:hover label.sk-toggleable__label-arrow:before {color: black;}#sk-container-id-3 div.sk-toggleable__content {max-height: 0;max-width: 0;overflow: hidden;text-align: left;background-color: #f0f8ff;}#sk-container-id-3 div.sk-toggleable__content pre {margin: 0.2em;color: black;border-radius: 0.25em;background-color: #f0f8ff;}#sk-container-id-3 input.sk-toggleable__control:checked~div.sk-toggleable__content {max-height: 200px;max-width: 100%;overflow: auto;}#sk-container-id-3 input.sk-toggleable__control:checked~label.sk-toggleable__label-arrow:before {content: \"▾\";}#sk-container-id-3 div.sk-estimator input.sk-toggleable__control:checked~label.sk-toggleable__label {background-color: #d4ebff;}#sk-container-id-3 div.sk-label input.sk-toggleable__control:checked~label.sk-toggleable__label {background-color: #d4ebff;}#sk-container-id-3 input.sk-hidden--visually {border: 0;clip: rect(1px 1px 1px 1px);clip: rect(1px, 1px, 1px, 1px);height: 1px;margin: -1px;overflow: hidden;padding: 0;position: absolute;width: 1px;}#sk-container-id-3 div.sk-estimator {font-family: monospace;background-color: #f0f8ff;border: 1px dotted black;border-radius: 0.25em;box-sizing: border-box;margin-bottom: 0.5em;}#sk-container-id-3 div.sk-estimator:hover {background-color: #d4ebff;}#sk-container-id-3 div.sk-parallel-item::after {content: \"\";width: 100%;border-bottom: 1px solid gray;flex-grow: 1;}#sk-container-id-3 div.sk-label:hover label.sk-toggleable__label {background-color: #d4ebff;}#sk-container-id-3 div.sk-serial::before {content: \"\";position: absolute;border-left: 1px solid gray;box-sizing: border-box;top: 0;bottom: 0;left: 50%;z-index: 0;}#sk-container-id-3 div.sk-serial {display: flex;flex-direction: column;align-items: center;background-color: white;padding-right: 0.2em;padding-left: 0.2em;position: relative;}#sk-container-id-3 div.sk-item {position: relative;z-index: 1;}#sk-container-id-3 div.sk-parallel {display: flex;align-items: stretch;justify-content: center;background-color: white;position: relative;}#sk-container-id-3 div.sk-item::before, #sk-container-id-3 div.sk-parallel-item::before {content: \"\";position: absolute;border-left: 1px solid gray;box-sizing: border-box;top: 0;bottom: 0;left: 50%;z-index: -1;}#sk-container-id-3 div.sk-parallel-item {display: flex;flex-direction: column;z-index: 1;position: relative;background-color: white;}#sk-container-id-3 div.sk-parallel-item:first-child::after {align-self: flex-end;width: 50%;}#sk-container-id-3 div.sk-parallel-item:last-child::after {align-self: flex-start;width: 50%;}#sk-container-id-3 div.sk-parallel-item:only-child::after {width: 0;}#sk-container-id-3 div.sk-dashed-wrapped {border: 1px dashed gray;margin: 0 0.4em 0.5em 0.4em;box-sizing: border-box;padding-bottom: 0.4em;background-color: white;}#sk-container-id-3 div.sk-label label {font-family: monospace;font-weight: bold;display: inline-block;line-height: 1.2em;}#sk-container-id-3 div.sk-label-container {text-align: center;}#sk-container-id-3 div.sk-container {/* jupyter's `normalize.less` sets `[hidden] { display: none; }` but bootstrap.min.css set `[hidden] { display: none !important; }` so we also need the `!important` here to be able to override the default hidden behavior on the sphinx rendered scikit-learn.org. See: https://github.com/scikit-learn/scikit-learn/issues/21755 */display: inline-block !important;position: relative;}#sk-container-id-3 div.sk-text-repr-fallback {display: none;}</style><div id=\"sk-container-id-3\" class=\"sk-top-container\"><div class=\"sk-text-repr-fallback\"><pre>GradientBoostingClassifier(random_state=42)</pre><b>In a Jupyter environment, please rerun this cell to show the HTML representation or trust the notebook. <br />On GitHub, the HTML representation is unable to render, please try loading this page with nbviewer.org.</b></div><div class=\"sk-container\" hidden><div class=\"sk-item\"><div class=\"sk-estimator sk-toggleable\"><input class=\"sk-toggleable__control sk-hidden--visually\" id=\"sk-estimator-id-3\" type=\"checkbox\" checked><label for=\"sk-estimator-id-3\" class=\"sk-toggleable__label sk-toggleable__label-arrow\">GradientBoostingClassifier</label><div class=\"sk-toggleable__content\"><pre>GradientBoostingClassifier(random_state=42)</pre></div></div></div></div></div>"
      ],
      "text/plain": [
       "GradientBoostingClassifier(random_state=42)"
      ]
     },
     "execution_count": 19,
     "metadata": {},
     "output_type": "execute_result"
    }
   ],
   "source": [
    "# Gradient Boosting\n",
    "\n",
    "from sklearn.ensemble import GradientBoostingClassifier\n",
    "\n",
    "GBmodel = GradientBoostingClassifier(n_estimators = 100, learning_rate = 0.1, max_depth = 3, random_state = 42)\n",
    "GBmodel.fit(X_train, y_train)"
   ]
  },
  {
   "cell_type": "markdown",
   "id": "8d0153c5-8fd9-47dd-af2b-fbc4f3d67741",
   "metadata": {},
   "source": [
    "## Model Evaluation"
   ]
  },
  {
   "cell_type": "markdown",
   "id": "5b62556d-b865-4a1c-bdc3-b1ef85fd6352",
   "metadata": {},
   "source": [
    "In this section, we will evaluate the models we built in the previous section and determine the most accurate model to predict the ownership of a bank account."
   ]
  },
  {
   "cell_type": "code",
   "execution_count": 20,
   "id": "cf380fc1-1aa2-4aca-ba7e-264758936269",
   "metadata": {},
   "outputs": [],
   "source": [
    "# Making predictions for each models\n",
    "LR_train_predictions = LRmodel.predict(X_train)\n",
    "LR_test_predictions = LRmodel.predict(X_test)\n",
    "\n",
    "RF_train_predictions = RFmodel.predict(X_train)\n",
    "RF_test_predictions = RFmodel.predict(X_test)\n",
    "\n",
    "GB_train_predictions = GBmodel.predict(X_train)\n",
    "GB_test_predictions = GBmodel.predict(X_test)"
   ]
  },
  {
   "cell_type": "markdown",
   "id": "c417b73b-f8e7-49e9-93f6-35a7821d1a03",
   "metadata": {},
   "source": [
    "I first evaluated the models using accuracy_score."
   ]
  },
  {
   "cell_type": "code",
   "execution_count": 21,
   "id": "9f974d94-a4d0-4bec-9a66-78a6c2500dda",
   "metadata": {},
   "outputs": [],
   "source": [
    "# Evaluate the models\n",
    "from sklearn.metrics import accuracy_score\n",
    "LR_train_accuracy = accuracy_score(LR_train_predictions, y_train)\n",
    "LR_test_accuracy = accuracy_score(LR_test_predictions, y_test)\n",
    "\n",
    "RF_train_accuracy = accuracy_score(RF_train_predictions, y_train)\n",
    "RF_test_accuracy = accuracy_score(RF_test_predictions, y_test)\n",
    "\n",
    "GB_train_accuracy = accuracy_score(GB_train_predictions, y_train)\n",
    "GB_test_accuracy = accuracy_score(GB_test_predictions, y_test)"
   ]
  },
  {
   "cell_type": "markdown",
   "id": "e7ead4fd-2245-4899-97a1-e8daadc53323",
   "metadata": {},
   "source": [
    "I also used mean absolute error, mean squared error, and root mean squared error to assess model performance."
   ]
  },
  {
   "cell_type": "code",
   "execution_count": 22,
   "id": "02ce6712-dde7-46ff-b1e4-16f8fea7063f",
   "metadata": {},
   "outputs": [],
   "source": [
    "# Use mean absolute error, mean squared error, and R-squared\n",
    "from sklearn.metrics import mean_squared_error, mean_absolute_error\n",
    "import math\n",
    "\n",
    "\n",
    "LR_train_MAE  = mean_absolute_error(y_train, LR_train_predictions)\n",
    "LR_train_MSQE = mean_squared_error(y_train, LR_train_predictions)\n",
    "LR_train_RMSE = math.sqrt(LR_train_MSQE)\n",
    "\n",
    "LR_test_MAE  = mean_absolute_error(y_test, LR_test_predictions)\n",
    "LR_test_MSQE = mean_squared_error(y_test, LR_test_predictions)\n",
    "LR_test_RMSE = math.sqrt(LR_test_MSQE)\n",
    "\n",
    "RF_train_MAE  = mean_absolute_error(y_train, RF_train_predictions)\n",
    "RF_train_MSQE = mean_squared_error(y_train, RF_train_predictions)\n",
    "RF_train_RMSE = math.sqrt(RF_train_MSQE)\n",
    "\n",
    "RF_test_MAE  = mean_absolute_error(y_test, RF_test_predictions)\n",
    "RF_test_MSQE = mean_squared_error(y_test, RF_test_predictions)\n",
    "RF_test_RMSE = math.sqrt(RF_test_MSQE)\n",
    "\n",
    "GB_train_MAE  = mean_absolute_error(y_train, GB_train_predictions)\n",
    "GB_train_MSQE = mean_squared_error(y_train, GB_train_predictions)\n",
    "GB_train_RMSE = math.sqrt(GB_train_MSQE)\n",
    "\n",
    "GB_test_MAE  = mean_absolute_error(y_test, GB_test_predictions)\n",
    "GB_test_MSQE = mean_squared_error(y_test, GB_test_predictions)\n",
    "GB_test_RMSE = math.sqrt(GB_test_MSQE)"
   ]
  },
  {
   "cell_type": "markdown",
   "id": "e469039b-560f-4f27-b2c6-6b2cf73efa86",
   "metadata": {},
   "source": [
    "To see the difference in those evaluations for each model, I make a data frame. "
   ]
  },
  {
   "cell_type": "code",
   "execution_count": 23,
   "id": "135977c9-34c8-48ec-b5ab-cfd42cef1f9b",
   "metadata": {},
   "outputs": [],
   "source": [
    "# Use numpy array to convert evaluations data to tables \n",
    "evaluation_array = np.array([[LR_train_accuracy, LR_train_MAE, LR_train_MSQE, LR_train_RMSE],\n",
    "                             [LR_test_accuracy, LR_test_MAE, LR_test_MSQE, LR_test_RMSE],\n",
    "                             [RF_train_accuracy, RF_train_MAE, RF_train_MSQE, RF_train_RMSE],\n",
    "                             [RF_test_accuracy, RF_test_MAE, RF_test_MSQE, RF_test_RMSE],\n",
    "                             [GB_train_accuracy, GB_train_MAE, GB_train_MSQE, GB_train_RMSE],\n",
    "                             [GB_test_accuracy, GB_test_MAE, GB_test_MSQE, GB_test_RMSE]])"
   ]
  },
  {
   "cell_type": "code",
   "execution_count": 24,
   "id": "5dae0787-9011-43ef-a2bf-5d7665cd0b0b",
   "metadata": {},
   "outputs": [
    {
     "data": {
      "text/html": [
       "<div>\n",
       "<style scoped>\n",
       "    .dataframe tbody tr th:only-of-type {\n",
       "        vertical-align: middle;\n",
       "    }\n",
       "\n",
       "    .dataframe tbody tr th {\n",
       "        vertical-align: top;\n",
       "    }\n",
       "\n",
       "    .dataframe thead th {\n",
       "        text-align: right;\n",
       "    }\n",
       "</style>\n",
       "<table border=\"1\" class=\"dataframe\">\n",
       "  <thead>\n",
       "    <tr style=\"text-align: right;\">\n",
       "      <th></th>\n",
       "      <th>Accuracy Score</th>\n",
       "      <th>Mean absolute</th>\n",
       "      <th>Mean squared</th>\n",
       "      <th>R Squared</th>\n",
       "    </tr>\n",
       "  </thead>\n",
       "  <tbody>\n",
       "    <tr>\n",
       "      <th>Logistic Regression training data</th>\n",
       "      <td>0.870946</td>\n",
       "      <td>0.129054</td>\n",
       "      <td>0.129054</td>\n",
       "      <td>0.359241</td>\n",
       "    </tr>\n",
       "    <tr>\n",
       "      <th>Logistic Regression test data</th>\n",
       "      <td>0.875460</td>\n",
       "      <td>0.124540</td>\n",
       "      <td>0.124540</td>\n",
       "      <td>0.352902</td>\n",
       "    </tr>\n",
       "    <tr>\n",
       "      <th>Random Forest training data</th>\n",
       "      <td>0.866756</td>\n",
       "      <td>0.133244</td>\n",
       "      <td>0.133244</td>\n",
       "      <td>0.365026</td>\n",
       "    </tr>\n",
       "    <tr>\n",
       "      <th>Random Forest test data</th>\n",
       "      <td>0.867668</td>\n",
       "      <td>0.132332</td>\n",
       "      <td>0.132332</td>\n",
       "      <td>0.363775</td>\n",
       "    </tr>\n",
       "    <tr>\n",
       "      <th>Gradient Boosting training data</th>\n",
       "      <td>0.889955</td>\n",
       "      <td>0.110045</td>\n",
       "      <td>0.110045</td>\n",
       "      <td>0.331730</td>\n",
       "    </tr>\n",
       "    <tr>\n",
       "      <th>Gradient Boositng test data</th>\n",
       "      <td>0.889912</td>\n",
       "      <td>0.110088</td>\n",
       "      <td>0.110088</td>\n",
       "      <td>0.331795</td>\n",
       "    </tr>\n",
       "  </tbody>\n",
       "</table>\n",
       "</div>"
      ],
      "text/plain": [
       "                                    Accuracy Score  Mean absolute  \\\n",
       " Logistic Regression training data        0.870946       0.129054   \n",
       "Logistic Regression test data             0.875460       0.124540   \n",
       "Random Forest training data               0.866756       0.133244   \n",
       "Random Forest test data                   0.867668       0.132332   \n",
       "Gradient Boosting training data           0.889955       0.110045   \n",
       "Gradient Boositng test data               0.889912       0.110088   \n",
       "\n",
       "                                    Mean squared  R Squared  \n",
       " Logistic Regression training data      0.129054   0.359241  \n",
       "Logistic Regression test data           0.124540   0.352902  \n",
       "Random Forest training data             0.133244   0.365026  \n",
       "Random Forest test data                 0.132332   0.363775  \n",
       "Gradient Boosting training data         0.110045   0.331730  \n",
       "Gradient Boositng test data             0.110088   0.331795  "
      ]
     },
     "execution_count": 24,
     "metadata": {},
     "output_type": "execute_result"
    }
   ],
   "source": [
    "# Making a table \n",
    "evaluation_df = pd.DataFrame(evaluation_array, index = [\" Logistic Regression training data\", \"Logistic Regression test data\", \"Random Forest training data\", \"Random Forest test data\", \n",
    "                                                        \"Gradient Boosting training data\", \"Gradient Boositng test data\"],\n",
    "                             columns = [\"Accuracy Score\", \"Mean absolute\", \"Mean squared\", \"R Squared\"])\n",
    "evaluation_df"
   ]
  },
  {
   "cell_type": "markdown",
   "id": "40453878-b793-4aae-a0ac-7c7606b1a18f",
   "metadata": {},
   "source": [
    "This table shows that all models predict really well, with all of their accuracy scores above 0.85. \n",
    "Among these models, the random forest classifier showed the highest prediction accuracy."
   ]
  },
  {
   "cell_type": "markdown",
   "id": "c9e383e5-6992-4c42-94ba-91b8efc213c5",
   "metadata": {},
   "source": [
    "## Visualization"
   ]
  },
  {
   "cell_type": "markdown",
   "id": "d183245a-ba35-4f92-b871-ad22b9591b68",
   "metadata": {},
   "source": [
    "In this section, I will make some meaningful plots or tables to visualize my prediction through gradient boositng. "
   ]
  },
  {
   "cell_type": "markdown",
   "id": "c668e1a5-2dda-4086-acc0-dd6971e1099e",
   "metadata": {},
   "source": [
    "First, let's make heatmaps of predictions by random forest."
   ]
  },
  {
   "cell_type": "code",
   "execution_count": 25,
   "id": "a8d020f8-73f8-4f84-868c-ebdfa9c259ee",
   "metadata": {},
   "outputs": [],
   "source": [
    "from sklearn.metrics import confusion_matrix, ConfusionMatrixDisplay\n",
    "import matplotlib.pyplot as plt\n",
    "\n",
    "GB_train_matrix = confusion_matrix(y_train, GB_train_predictions)\n",
    "GB_test_matrix = confusion_matrix(y_test, GB_test_predictions)"
   ]
  },
  {
   "cell_type": "code",
   "execution_count": 26,
   "id": "e1722bc0-bc7d-4583-bb1b-0378e6808346",
   "metadata": {},
   "outputs": [],
   "source": [
    "GB_train_df = pd.DataFrame(GB_train_matrix, index=[\"No\", \"Yes\"], columns=[\"No\", \"Yes\"])\n",
    "GB_test_df = pd.DataFrame(GB_test_matrix,  index=[\"No\", \"Yes\"], columns=[\"No\", \"Yes\"])"
   ]
  },
  {
   "cell_type": "code",
   "execution_count": 27,
   "id": "482d93d3-e0ac-41b6-9af5-4619de5c4532",
   "metadata": {},
   "outputs": [
    {
     "data": {
      "image/png": "[encoded data removed]",
      "text/plain": [
       "<Figure size 1800x600 with 4 Axes>"
      ]
     },
     "metadata": {},
     "output_type": "display_data"
    }
   ],
   "source": [
    "plt.figure(figsize = (18,6))\n",
    "plt.subplot(1,2,1)\n",
    "sns.heatmap(GB_train_df, annot = True, fmt = 'd', cmap = 'Blues')\n",
    "plt.xlabel('Predictions')\n",
    "plt.ylabel('Actual')\n",
    "plt.title(f'Gradient Boosting (Accuracy : {round(GB_train_accuracy * 100, 2)}%)')\n",
    "\n",
    "\n",
    "plt.subplot(1,2,2)\n",
    "sns.heatmap(GB_test_df, annot = True, fmt='d', cmap='Blues')\n",
    "plt.xlabel('Predictions')\n",
    "plt.ylabel('Actual')\n",
    "plt.title(f'Gradient Boosting (Accuracy : {round(GB_test_accuracy * 100, 2)}%)')\n",
    "plt.show()"
   ]
  },
  {
   "cell_type": "markdown",
   "id": "af61b28a-9ee7-481b-b80a-2903aefd4978",
   "metadata": {},
   "source": [
    "These two plots show the actual bank account on the y-axis and predictions through a random forest classifier on the x-axis. \n",
    "There is little difference between the random forest classifier’s predictions on the training and test datasets, which indicates that there is less possibility of overfitting or biases in these prediction models. "
   ]
  },
  {
   "cell_type": "markdown",
   "id": "4814683d-5f77-415c-833b-2b25bc282c57",
   "metadata": {},
   "source": [
    "## Conclusion"
   ]
  },
  {
   "cell_type": "markdown",
   "id": "aa7661c1-228f-487e-9a30-e9056a19269e",
   "metadata": {},
   "source": [
    "For the last section, let's make a dataframe which contains the 'uniqueid' as index, then the actual and predicted of bank account statements. "
   ]
  },
  {
   "cell_type": "code",
   "execution_count": 28,
   "id": "35a9124d-00d9-48b4-8eed-0a46d9abe015",
   "metadata": {},
   "outputs": [
    {
     "data": {
      "text/html": [
       "<div>\n",
       "<style scoped>\n",
       "    .dataframe tbody tr th:only-of-type {\n",
       "        vertical-align: middle;\n",
       "    }\n",
       "\n",
       "    .dataframe tbody tr th {\n",
       "        vertical-align: top;\n",
       "    }\n",
       "\n",
       "    .dataframe thead th {\n",
       "        text-align: right;\n",
       "    }\n",
       "</style>\n",
       "<table border=\"1\" class=\"dataframe\">\n",
       "  <thead>\n",
       "    <tr style=\"text-align: right;\">\n",
       "      <th></th>\n",
       "      <th>Actual</th>\n",
       "      <th>Predicted</th>\n",
       "    </tr>\n",
       "    <tr>\n",
       "      <th>uniqueid</th>\n",
       "      <th></th>\n",
       "      <th></th>\n",
       "    </tr>\n",
       "  </thead>\n",
       "  <tbody>\n",
       "    <tr>\n",
       "      <th>625</th>\n",
       "      <td>No</td>\n",
       "      <td>No</td>\n",
       "    </tr>\n",
       "    <tr>\n",
       "      <th>1561</th>\n",
       "      <td>No</td>\n",
       "      <td>No</td>\n",
       "    </tr>\n",
       "    <tr>\n",
       "      <th>4806</th>\n",
       "      <td>No</td>\n",
       "      <td>No</td>\n",
       "    </tr>\n",
       "    <tr>\n",
       "      <th>4902</th>\n",
       "      <td>No</td>\n",
       "      <td>No</td>\n",
       "    </tr>\n",
       "    <tr>\n",
       "      <th>980</th>\n",
       "      <td>No</td>\n",
       "      <td>No</td>\n",
       "    </tr>\n",
       "    <tr>\n",
       "      <th>...</th>\n",
       "      <td>...</td>\n",
       "      <td>...</td>\n",
       "    </tr>\n",
       "    <tr>\n",
       "      <th>3195</th>\n",
       "      <td>No</td>\n",
       "      <td>No</td>\n",
       "    </tr>\n",
       "    <tr>\n",
       "      <th>5934</th>\n",
       "      <td>No</td>\n",
       "      <td>Yes</td>\n",
       "    </tr>\n",
       "    <tr>\n",
       "      <th>5727</th>\n",
       "      <td>No</td>\n",
       "      <td>No</td>\n",
       "    </tr>\n",
       "    <tr>\n",
       "      <th>2954</th>\n",
       "      <td>No</td>\n",
       "      <td>No</td>\n",
       "    </tr>\n",
       "    <tr>\n",
       "      <th>295</th>\n",
       "      <td>No</td>\n",
       "      <td>No</td>\n",
       "    </tr>\n",
       "  </tbody>\n",
       "</table>\n",
       "<p>7058 rows × 2 columns</p>\n",
       "</div>"
      ],
      "text/plain": [
       "         Actual Predicted\n",
       "uniqueid                 \n",
       "625          No        No\n",
       "1561         No        No\n",
       "4806         No        No\n",
       "4902         No        No\n",
       "980          No        No\n",
       "...         ...       ...\n",
       "3195         No        No\n",
       "5934         No       Yes\n",
       "5727         No        No\n",
       "2954         No        No\n",
       "295          No        No\n",
       "\n",
       "[7058 rows x 2 columns]"
      ]
     },
     "execution_count": 28,
     "metadata": {},
     "output_type": "execute_result"
    }
   ],
   "source": [
    "y_test_yes_no = ['Yes' if val == 1 else 'No' for val in y_test]\n",
    "GBpredictions = ['Yes' if val == 1 else 'No' for val in GB_test_predictions]\n",
    "results = pd.DataFrame({'Actual': y_test_yes_no,\n",
    "                        'Predicted': GBpredictions}, index = y_test.index)\n",
    "results"
   ]
  },
  {
   "cell_type": "markdown",
   "id": "9a8195fe-a4a8-4683-a8bf-9ac1e62fe2fb",
   "metadata": {},
   "source": [
    "As shown, most predicted outcomes closely align with the actual results, which shows my machine learning models' accuracy."
   ]
  },
  {
   "cell_type": "markdown",
   "id": "05bea86e-80f0-472c-bbfe-44b3c6fc50d7",
   "metadata": {},
   "source": [
    "This project aimed to address the challenge of financial inclusion in Africa by building machine learning models that predict whether individuals are likely to own or use a bank account.\n",
    "\n",
    "Throughout the project, I found that education level, cellphone access, and country of residence were the most influential features affecting an individual's likelihood of having a bank account. Notably, individuals with only primary education or without access to a cellphone were significantly less likely to own a bank account. Additionally, although countries were only surveyed once each during different years, Kenya showed a relatively higher rate of bank account ownership compared to the others.\n",
    "\n",
    "Among the three classification models I tested, all performed with relatively high accuracy (above 85%). However, the Random Forest classifier slightly outperformed the others, achieving a balance between training and test accuracy, which indicates a low risk of overfitting. This made it a strong candidate for practical application in predicting financial inclusion status.\n",
    "\n",
    "The insights gained from this project can be valuable for policymakers, financial institutions, and NGOs aiming to improve economic inclusion. For instance, targeting educational initiatives and improving mobile infrastructure could increase financial access in underserved areas. The ability to predict which individuals are less likely to be financially included also enables the development of more personalized outreach programs and financial literacy campaigns."
   ]
  },
  {
   "cell_type": "code",
   "execution_count": null,
   "id": "1443f837-5007-42c8-ac26-c3f3c0ef0b74",
   "metadata": {},
   "outputs": [],
   "source": []
  }
 ],
 "metadata": {
  "kernelspec": {
   "display_name": "anaconda-2024.02-py310",
   "language": "python",
   "name": "conda-env-anaconda-2024.02-py310-py"
  },
  "language_info": {
   "codemirror_mode": {
    "name": "ipython",
    "version": 3
   },
   "file_extension": ".py",
   "mimetype": "text/x-python",
   "name": "python",
   "nbconvert_exporter": "python",
   "pygments_lexer": "ipython3",
   "version": "3.10.14"
  }
 },
 "nbformat": 4,
 "nbformat_minor": 5
}
